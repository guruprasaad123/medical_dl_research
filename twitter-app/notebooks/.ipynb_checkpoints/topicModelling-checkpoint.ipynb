{
 "cells": [
  {
   "cell_type": "code",
   "execution_count": 7,
   "metadata": {},
   "outputs": [
    {
     "name": "stdout",
     "output_type": "stream",
     "text": [
      "  % Total    % Received % Xferd  Average Speed   Time    Time     Time  Current\n",
      "                                 Dload  Upload   Total   Spent    Left  Speed\n",
      "100 43465  100 43465    0     0  28689      0  0:00:01  0:00:01 --:--:-- 28708\n"
     ]
    }
   ],
   "source": [
    "! curl -L -o result.json http://ec2-13-232-219-139.ap-south-1.compute.amazonaws.com:4000/api/corona/0/9999"
   ]
  },
  {
   "cell_type": "code",
   "execution_count": 22,
   "metadata": {},
   "outputs": [
    {
     "name": "stdout",
     "output_type": "stream",
     "text": [
      "0 .  @KemenkesRI Corona originally from China, usually not durable and cpet damaged ,, very serious 😜😜😜\n",
      "1 .  @gwageneder @DrPhiloponus I hope only because of Corona, not because of religious feelings.\n",
      "2 .  RT @AndySwan: Seattle’s field hospital for CORONA is being taken down just 9 days after it was constructed.  It never saw a single patient.…\n",
      "3 .  @OfficialAsanlu We just didn't know😭😭. Forgive us Lagbaja!\n",
      "\n",
      "Wait a minute!\n",
      "\n",
      "If Lagbaja is  a prophet, did he place… https://t.co/Seb2EyFDGl\n",
      "4 .  @brumaiaraaa Kkkkkkkkkkkkk naooo, but it was about him delivering milk and getting corona\n",
      "5 .  RT @faraa_farhaan: Corona .. ooh .. Na Na ..\n",
      "\n",
      "# COVID19 https://t.co/kCHP0YPU0T\n",
      "6 .  RT @ salih_01: This virus called Corona officially made us paronayak 😍\n",
      "\n",
      "I officially laughed at the video 😂😂😂😂\n",
      "\n",
      "Happy pleasant days to all of us 😊…\n",
      "7 .  RT @ericCthielen: Incidentally, the word \"fundamental right\" is a bureaucratic-political rape. #Freedom is a natural right that no one ...\n",
      "8 .  RT @TheInfamous__: My daughter is forcing me to do the “ head, shoulder, knees and toes” with her. Pls can this corona be over. I just want…\n"
     ]
    }
   ],
   "source": [
    "import json\n",
    "\n",
    "tweetJSON = {}\n",
    "\n",
    "with open('./result.json' , encoding='utf-8') as J:\n",
    "    tweetJSON = json.loads(J.read())\n",
    "    \n",
    "tweets = tweetJSON['response']['tweets']\n",
    "\n",
    "for index,tweet in enumerate(tweets):\n",
    "    print( index ,\". \" , tweet['text'] )"
   ]
  }
 ],
 "metadata": {
  "kernelspec": {
   "display_name": "Python 3",
   "language": "python",
   "name": "python3"
  },
  "language_info": {
   "codemirror_mode": {
    "name": "ipython",
    "version": 3
   },
   "file_extension": ".py",
   "mimetype": "text/x-python",
   "name": "python",
   "nbconvert_exporter": "python",
   "pygments_lexer": "ipython3",
   "version": "3.7.3"
  }
 },
 "nbformat": 4,
 "nbformat_minor": 4
}
